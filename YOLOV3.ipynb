{
  "cells": [
    {
      "cell_type": "markdown",
      "source": [
        "<h1> Object Detection using YOLOV3 </h1>"
      ],
      "metadata": {
        "id": "cHrhx-b5ckXP"
      }
    },
    {
      "cell_type": "markdown",
      "source": [
        "**First start importing necessary libraries**\n",
        "\n"
      ],
      "metadata": {
        "id": "oGUSXOMQeww4"
      }
    },
    {
      "cell_type": "code",
      "execution_count": null,
      "metadata": {
        "colab": {
          "base_uri": "https://localhost:8080/"
        },
        "id": "tkbbacCsCP1n",
        "outputId": "f04da622-ed19-4c5e-cab6-62d557c8fe31"
      },
      "outputs": [
        {
          "name": "stdout",
          "output_type": "stream",
          "text": [
            "albumentations==1.2.1 is successfully installed\n"
          ]
        }
      ],
      "source": [
        "!pip install -q -U albumentations\n",
        "!echo \"$(pip freeze | grep albumentations) is successfully installed\""
      ]
    },
    {
      "cell_type": "code",
      "execution_count": null,
      "metadata": {
        "colab": {
          "base_uri": "https://localhost:8080/"
        },
        "id": "A8FRKDR4RJ_r",
        "outputId": "945ec547-0905-4000-ed8f-ca8199bbb5de"
      },
      "outputs": [
        {
          "name": "stdout",
          "output_type": "stream",
          "text": [
            "Looking in indexes: https://pypi.org/simple, https://us-python.pkg.dev/colab-wheels/public/simple/\n",
            "Collecting albumentations\n",
            "  Downloading albumentations-1.2.1-py3-none-any.whl (116 kB)\n",
            "\u001b[K     |████████████████████████████████| 116 kB 8.4 MB/s \n",
            "\u001b[?25hInstalling collected packages: albumentations\n",
            "  Attempting uninstall: albumentations\n",
            "    Found existing installation: albumentations 1.2.1\n",
            "    Uninstalling albumentations-1.2.1:\n",
            "      Successfully uninstalled albumentations-1.2.1\n",
            "Successfully installed albumentations-1.2.1\n",
            "Looking in indexes: https://pypi.org/simple, https://us-python.pkg.dev/colab-wheels/public/simple/\n",
            "Collecting opencv-python-headless==4.5.5.62\n",
            "  Downloading opencv_python_headless-4.5.5.62-cp36-abi3-manylinux_2_17_x86_64.manylinux2014_x86_64.whl (47.7 MB)\n",
            "\u001b[K     |████████████████████████████████| 47.7 MB 1.2 MB/s \n",
            "\u001b[?25hRequirement already satisfied: numpy>=1.14.5 in /usr/local/lib/python3.7/dist-packages (from opencv-python-headless==4.5.5.62) (1.21.6)\n",
            "Installing collected packages: opencv-python-headless\n",
            "  Attempting uninstall: opencv-python-headless\n",
            "    Found existing installation: opencv-python-headless 4.6.0.66\n",
            "    Uninstalling opencv-python-headless-4.6.0.66:\n",
            "      Successfully uninstalled opencv-python-headless-4.6.0.66\n",
            "Successfully installed opencv-python-headless-4.5.5.62\n"
          ]
        }
      ],
      "source": [
        "!pip install --upgrade --force-reinstall --no-deps albumentations\n",
        "!pip install opencv-python-headless==4.5.5.62"
      ]
    },
    {
      "cell_type": "code",
      "execution_count": null,
      "metadata": {
        "colab": {
          "base_uri": "https://localhost:8080/",
          "height": 36
        },
        "id": "W6H_iKRSRVcN",
        "outputId": "28b1d27b-efd7-4688-eeda-8c859cfd1802"
      },
      "outputs": [
        {
          "data": {
            "application/vnd.google.colaboratory.intrinsic+json": {
              "type": "string"
            },
            "text/plain": [
              "'1.2.1'"
            ]
          },
          "execution_count": 4,
          "metadata": {},
          "output_type": "execute_result"
        }
      ],
      "source": [
        "import albumentations\n",
        "albumentations.__version__"
      ]
    },
    {
      "cell_type": "code",
      "execution_count": null,
      "metadata": {
        "colab": {
          "base_uri": "https://localhost:8080/"
        },
        "id": "3nrlQYKuRg3w",
        "outputId": "a15cfbbe-39ce-4aa9-e9ea-678935913deb"
      },
      "outputs": [
        {
          "name": "stdout",
          "output_type": "stream",
          "text": [
            "Mounted at /content/drive\n"
          ]
        }
      ],
      "source": [
        "from google.colab import drive\n",
        "drive.mount('/content/drive')"
      ]
    },
    {
      "cell_type": "code",
      "execution_count": null,
      "metadata": {
        "id": "Hp5PJDaNRldr"
      },
      "outputs": [],
      "source": [
        "import matplotlib.pyplot as plt\n",
        "import matplotlib.patches as patches\n",
        "import numpy as np\n",
        "import os\n",
        "import random\n",
        "import torch\n",
        "import pandas as pd\n",
        "\n",
        "from collections import Counter\n",
        "from torch.utils.data import DataLoader\n",
        "from tqdm import tqdm\n"
      ]
    },
    {
      "cell_type": "code",
      "execution_count": null,
      "metadata": {
        "id": "V-q7hurGzvER"
      },
      "outputs": [],
      "source": [
        "import albumentations as A\n",
        "import cv2\n",
        "import torch\n",
        "import torch.nn as nn\n",
        "\n",
        "from albumentations.pytorch import ToTensorV2"
      ]
    },
    {
      "cell_type": "code",
      "execution_count": null,
      "metadata": {
        "id": "xlaeEcc5zx3b"
      },
      "outputs": [],
      "source": [
        "DATASET = 'PASCAL_VOC'\n",
        "DEVICE = \"cuda\" if torch.cuda.is_available() else \"cpu\"\n",
        "NUM_WORKERS = 4\n",
        "BATCH_SIZE = 32\n",
        "IMAGE_SIZE = 416\n",
        "NUM_CLASSES = 20\n",
        "LEARNING_RATE = 3e-4 \n",
        "WEIGHT_DECAY = 0 \n",
        "NUM_EPOCHS = 20\n",
        "CONF_THRESHOLD = 0.4 \n",
        "MAP_IOU_THRESH = 0.5\n",
        "NMS_IOU_THRESH = 0.45\n",
        "S = [IMAGE_SIZE // 32, IMAGE_SIZE // 16, IMAGE_SIZE // 8]\n",
        "PIN_MEMORY = True\n",
        "LOAD_MODEL = False\n",
        "SAVE_MODEL = True\n",
        "CHECKPOINT_FILE = \"checkpoint.pth.tar\"\n",
        "IMG_DIR = '/content/drive/MyDrive/pascalvoc/images'\n",
        "LABEL_DIR = '/content/drive/MyDrive/pascalvoc/labels'\n",
        "\n",
        "ANCHORS = [\n",
        "    [(0.28, 0.22), (0.38, 0.48), (0.9, 0.78)],\n",
        "    [(0.07, 0.15), (0.15, 0.11), (0.14, 0.29)],\n",
        "    [(0.02, 0.03), (0.04, 0.07), (0.08, 0.06)],\n",
        "]  # Note these have been rescaled to be between [0, 1]\n",
        "\n",
        "PASCAL_CLASSES = [\n",
        "    \"aeroplane\",\n",
        "    \"bicycle\",\n",
        "    \"bird\",\n",
        "    \"boat\",\n",
        "    \"bottle\",\n",
        "    \"bus\",\n",
        "    \"car\",\n",
        "    \"cat\",\n",
        "    \"chair\",\n",
        "    \"cow\",\n",
        "    \"diningtable\",\n",
        "    \"dog\",\n",
        "    \"horse\",\n",
        "    \"motorbike\",\n",
        "    \"person\",\n",
        "    \"pottedplant\",\n",
        "    \"sheep\",\n",
        "    \"sofa\",\n",
        "    \"train\",\n",
        "    \"tvmonitor\"\n",
        "]"
      ]
    },
    {
      "cell_type": "markdown",
      "source": [
        "**The below cell contains configuration for the entire network**"
      ],
      "metadata": {
        "id": "PJInIJavfLsL"
      }
    },
    {
      "cell_type": "code",
      "execution_count": null,
      "metadata": {
        "id": "jGkrVr18zycC"
      },
      "outputs": [],
      "source": [
        "config = [\n",
        "    (32,3,1),\n",
        "    (64,3,2),\n",
        "    [\"B\",1],\n",
        "    (128,3,2),\n",
        "    [\"B\",2],\n",
        "    (256,3,2),\n",
        "    [\"B\",8],\n",
        "    (512,3,2),\n",
        "    [\"B\",8],\n",
        "    (1024,3,2),\n",
        "    [\"B\",4], #Upto this point is darknet53\n",
        "    (512,1,1),\n",
        "    (1024,3,1),\n",
        "    \"S\",\n",
        "    (256,1,1),\n",
        "    \"U\",\n",
        "    (256,1,1),\n",
        "    (512,3,1),\n",
        "    \"S\",\n",
        "    (128,1,1),\n",
        "    \"U\",\n",
        "    (128,1,1),\n",
        "    (256,3,1),\n",
        "    \"S\",\n",
        "]"
      ]
    },
    {
      "cell_type": "markdown",
      "source": [
        "**The below cell contain the implementation of convolutional neural network inlcluding skip connections, scale predictons**"
      ],
      "metadata": {
        "id": "6tK6Mb2tfhEj"
      }
    },
    {
      "cell_type": "markdown",
      "source": [
        "The reason for creating convolutional class separately is that for scale prediction we don't use any activation function on output. Hence to ignore activation functionswe can use separate convolution block while doing scale predictions."
      ],
      "metadata": {
        "id": "HBfNiuGtgEx_"
      }
    },
    {
      "cell_type": "code",
      "execution_count": null,
      "metadata": {
        "id": "7XC8fbXWzy07"
      },
      "outputs": [],
      "source": [
        "class CNNBlock(nn.Module):\n",
        "    def __init__(self, in_channels, out_channels, bn_act=True, **kwargs):\n",
        "        super().__init__()\n",
        "        self.conv = nn.Conv2d(in_channels, out_channels, bias = not bn_act, **kwargs)\n",
        "        self.bn = nn.BatchNorm2d(out_channels)\n",
        "        self.leaky = nn.LeakyReLU(0.1)\n",
        "        self.use_bn_act = bn_act \n",
        "    def forward(self, x):\n",
        "        if self.use_bn_act:\n",
        "            return self.leaky(self.bn(self.conv(x)))\n",
        "        else:\n",
        "            return self.conv(x)"
      ]
    },
    {
      "cell_type": "markdown",
      "source": [
        "The reason for specifying residuals is because in some cases we are going to be using skip connection and in some cases don't"
      ],
      "metadata": {
        "id": "X_hcxvhDgrPU"
      }
    },
    {
      "cell_type": "code",
      "execution_count": null,
      "metadata": {
        "id": "lHj7nArEzzJ9"
      },
      "outputs": [],
      "source": [
        "class ResidualBlock(nn.Module):\n",
        "    def __init__(self, channels, use_residual=True, num_repeats=1): \n",
        "        super().__init__()\n",
        "        self.layers = nn.ModuleList() #hold submodules in a list\n",
        "        for _ in range(num_repeats):\n",
        "            self.layers += [\n",
        "                nn.Sequential(\n",
        "                    CNNBlock(channels, channels//2, kernel_size=1),#padding zero by default\n",
        "                    CNNBlock(channels//2, channels, kernel_size=3, padding=1)\n",
        "                )\n",
        "            ]\n",
        "        self.use_residual = use_residual\n",
        "        self.num_repeats = num_repeats\n",
        "        \n",
        "    def forward(self, x):\n",
        "        for layer in self.layers:\n",
        "            x = layer(x) + x if  self.use_residual else layer(x)\n",
        "        return x\n",
        "        "
      ]
    },
    {
      "cell_type": "code",
      "execution_count": null,
      "metadata": {
        "id": "3hzwDzqsz1GD"
      },
      "outputs": [],
      "source": [
        "class ScalePrediction(nn.Module):\n",
        "    def __init__(self, in_channels, num_classes):\n",
        "        super().__init__()\n",
        "        self.pred = nn.Sequential(\n",
        "            CNNBlock(in_channels, 2*in_channels, kernel_size=3, padding=1),\n",
        "            CNNBlock(2*in_channels,3* (num_classes+5), bn_act=False, kernel_size=1)\n",
        "        )\n",
        "        self.num_classes = num_classes\n",
        "        \n",
        "    def forward(self, x):\n",
        "        return(\n",
        "            self.pred(x).reshape(x.shape[0], 3, self.num_classes+5, x.shape[2], x.shape[3]).permute(0,1,3,4,2)\n",
        "        )"
      ]
    },
    {
      "cell_type": "markdown",
      "source": [
        "This cell combines the above three cells to make Convoltuional neural network complete"
      ],
      "metadata": {
        "id": "IVOBtTo3hIfg"
      }
    },
    {
      "cell_type": "code",
      "execution_count": null,
      "metadata": {
        "id": "GntgeSkvz1bh"
      },
      "outputs": [],
      "source": [
        "class YOLOV3(nn.Module):\n",
        "    def __init__(self, in_channels=3, num_classes=20): #using pascal VOC for now\n",
        "        super().__init__()\n",
        "        self.num_classes = num_classes\n",
        "        self.in_channels = in_channels\n",
        "        self.layers = self._create_conv_layers()\n",
        "        \n",
        "    def forward(self, x):\n",
        "        outputs = []\n",
        "        route_connections = []\n",
        "        \n",
        "        for layer in self.layers:\n",
        "            if isinstance(layer, ScalePrediction):\n",
        "                outputs.append(layer(x))\n",
        "                continue\n",
        "            \n",
        "            x = layer(x)\n",
        "            #print(x.shape)\n",
        "            \n",
        "            if isinstance(layer, ResidualBlock) and layer.num_repeats ==8:\n",
        "                route_connections.append(x)\n",
        "                \n",
        "            elif isinstance(layer,nn.Upsample):\n",
        "                x = torch.cat([x, route_connections[-1]], dim=1)\n",
        "                route_connections.pop()\n",
        "        \n",
        "        return outputs\n",
        "    \n",
        "    def _create_conv_layers(self):\n",
        "        layers = nn.ModuleList()\n",
        "        in_channels = self.in_channels\n",
        "        \n",
        "        for module in config:\n",
        "            if isinstance(module, tuple):\n",
        "                out_channels, kernel_size, stride = module\n",
        "                layers.append(\n",
        "                    CNNBlock(\n",
        "                        in_channels,\n",
        "                        out_channels,\n",
        "                        kernel_size=kernel_size,\n",
        "                        stride=stride,\n",
        "                        padding=1 if kernel_size ==3 else 0,\n",
        "                    )\n",
        "                )\n",
        "                in_channels=out_channels\n",
        "                \n",
        "            elif isinstance(module, list):\n",
        "                num_repeats = module[1]\n",
        "                layers.append(ResidualBlock(in_channels, num_repeats=num_repeats))\n",
        "                \n",
        "            elif isinstance(module,str):\n",
        "                if module ==\"S\":\n",
        "                    layers +=  [\n",
        "                        ResidualBlock(in_channels, use_residual= False, num_repeats=1),\n",
        "                        CNNBlock(in_channels, in_channels//2, kernel_size=1),\n",
        "                        ScalePrediction(in_channels//2, num_classes=self.num_classes)\n",
        "                    ]\n",
        "                    \n",
        "                    in_channels = in_channels //2\n",
        "                    \n",
        "                elif module ==\"U\":\n",
        "                    layers.append(nn.Upsample(scale_factor=2))\n",
        "                    in_channels = in_channels * 3 \n",
        "                    \n",
        "        return layers  "
      ]
    },
    {
      "cell_type": "markdown",
      "source": [
        "<h2>The below cell contain necessary functions implementation.</h2>\n",
        "\n",
        "**The IOU_width_height function:**\n",
        "\n",
        "    Parameters:\n",
        "        boxes1 (tensor): width and height of the first bounding boxes\n",
        "        boxes2 (tensor): width and height of the second bounding boxes\n",
        "    Returns:\n",
        "        tensor: Intersection over union of the corresponding boxes\n",
        "  \n",
        "**Intersection over union function:**\n",
        "    This function calculates intersection over union (iou) given pred boxes\n",
        "    and target boxes.\n",
        "\n",
        "    Parameters:\n",
        "        boxes_preds (tensor): Predictions of Bounding Boxes (BATCH_SIZE, 4)\n",
        "        boxes_labels (tensor): Correct labels of Bounding Boxes (BATCH_SIZE, 4)\n",
        "        box_format (str): midpoint/corners, if boxes (x,y,w,h) or (x1,y1,x2,y2)\n",
        "    Returns:\n",
        "        tensor: Intersection over union for all examples\n",
        "\n",
        "**Non maximum supression:**\n",
        "    Does Non Max Suppression given bboxes\n",
        "\n",
        "    Parameters:\n",
        "        bboxes (list): list of lists containing all bboxes with each bboxes\n",
        "        specified as [class_pred, prob_score, x1, y1, x2, y2]\n",
        "        iou_threshold (float): threshold where predicted bboxes is correct\n",
        "        threshold (float): threshold to remove predicted bboxes (independent of IoU)\n",
        "        box_format (str): \"midpoint\" or \"corners\" used to specify bboxes\n",
        "    Returns:\n",
        "        list: bboxes after performing NMS given a specific IoU threshold\n",
        "\n",
        "**Mean Average Precision:**\n",
        "\n",
        "    This function calculates mean average precision (mAP)\n",
        "\n",
        "    Parameters:\n",
        "        pred_boxes (list): list of lists containing all bboxes with each bboxes\n",
        "        specified as [train_idx, class_prediction, prob_score, x1, y1, x2, y2]\n",
        "        true_boxes (list): Similar as pred_boxes except all the correct ones\n",
        "        iou_threshold (float): threshold where predicted bboxes is correct\n",
        "        box_format (str): \"midpoint\" or \"corners\" used to specify bboxes\n",
        "        num_classes (int): number of classes\n",
        "    Returns:\n",
        "        float: mAP value across all classes given a specific IoU threshold\n",
        "  "
      ],
      "metadata": {
        "id": "ze72BhYnhxDR"
      }
    },
    {
      "cell_type": "code",
      "execution_count": null,
      "metadata": {
        "id": "pIzWmFl2z2W-"
      },
      "outputs": [],
      "source": [
        "import matplotlib.pyplot as plt\n",
        "import matplotlib.patches as patches\n",
        "import numpy as np\n",
        "import os\n",
        "import random\n",
        "import torch\n",
        "\n",
        "from collections import Counter\n",
        "from torch.utils.data import DataLoader\n",
        "from tqdm import tqdm\n",
        "\n",
        "\n",
        "def iou_width_height(boxes1, boxes2):\n",
        "    intersection = torch.min(boxes1[..., 0], boxes2[..., 0]) * torch.min(\n",
        "        boxes1[..., 1], boxes2[..., 1]\n",
        "    )\n",
        "    union = (\n",
        "        boxes1[..., 0] * boxes1[..., 1] + boxes2[..., 0] * boxes2[..., 1] - intersection\n",
        "    )\n",
        "    return intersection / union\n",
        "\n",
        "\n",
        "def intersection_over_union(boxes_preds, boxes_labels, box_format=\"midpoint\"):\n",
        "\n",
        "    if box_format == \"midpoint\":\n",
        "        box1_x1 = boxes_preds[..., 0:1] - boxes_preds[..., 2:3] / 2\n",
        "        box1_y1 = boxes_preds[..., 1:2] - boxes_preds[..., 3:4] / 2\n",
        "        box1_x2 = boxes_preds[..., 0:1] + boxes_preds[..., 2:3] / 2\n",
        "        box1_y2 = boxes_preds[..., 1:2] + boxes_preds[..., 3:4] / 2\n",
        "        box2_x1 = boxes_labels[..., 0:1] - boxes_labels[..., 2:3] / 2\n",
        "        box2_y1 = boxes_labels[..., 1:2] - boxes_labels[..., 3:4] / 2\n",
        "        box2_x2 = boxes_labels[..., 0:1] + boxes_labels[..., 2:3] / 2\n",
        "        box2_y2 = boxes_labels[..., 1:2] + boxes_labels[..., 3:4] / 2\n",
        "\n",
        "    if box_format == \"corners\":\n",
        "        box1_x1 = boxes_preds[..., 0:1]\n",
        "        box1_y1 = boxes_preds[..., 1:2]\n",
        "        box1_x2 = boxes_preds[..., 2:3]\n",
        "        box1_y2 = boxes_preds[..., 3:4]\n",
        "        box2_x1 = boxes_labels[..., 0:1]\n",
        "        box2_y1 = boxes_labels[..., 1:2]\n",
        "        box2_x2 = boxes_labels[..., 2:3]\n",
        "        box2_y2 = boxes_labels[..., 3:4]\n",
        "\n",
        "    x1 = torch.max(box1_x1, box2_x1)\n",
        "    y1 = torch.max(box1_y1, box2_y1)\n",
        "    x2 = torch.min(box1_x2, box2_x2)\n",
        "    y2 = torch.min(box1_y2, box2_y2)\n",
        "\n",
        "    intersection = (x2 - x1).clamp(0) * (y2 - y1).clamp(0)\n",
        "    box1_area = abs((box1_x2 - box1_x1) * (box1_y2 - box1_y1))\n",
        "    box2_area = abs((box2_x2 - box2_x1) * (box2_y2 - box2_y1))\n",
        "\n",
        "    return intersection / (box1_area + box2_area - intersection + 1e-6)\n",
        "\n",
        "\n",
        "def non_max_suppression(bboxes, iou_threshold, threshold, box_format=\"corners\"):\n",
        "    assert type(bboxes) == list\n",
        "    bboxes = [box for box in bboxes if box[1] > threshold]\n",
        "    bboxes = sorted(bboxes, key=lambda x: x[1], reverse=True)\n",
        "    bboxes_after_nms = []\n",
        "\n",
        "    while bboxes:\n",
        "        chosen_box = bboxes.pop(0)\n",
        "\n",
        "        bboxes = [\n",
        "            box\n",
        "            for box in bboxes\n",
        "            if box[0] != chosen_box[0]\n",
        "            or intersection_over_union(\n",
        "                torch.tensor(chosen_box[2:]),\n",
        "                torch.tensor(box[2:]),\n",
        "                box_format=box_format,\n",
        "            )\n",
        "            < iou_threshold\n",
        "        ]\n",
        "\n",
        "        bboxes_after_nms.append(chosen_box)\n",
        "\n",
        "    return bboxes_after_nms\n",
        "\n",
        "\n",
        "def mean_average_precision(pred_boxes, true_boxes, iou_threshold=0.5, box_format=\"midpoint\", num_classes=20):\n",
        "    # list storing all AP for respective classes\n",
        "    average_precisions = []\n",
        "\n",
        "    # used for numerical stability later on\n",
        "    epsilon = 1e-6\n",
        "\n",
        "    for c in range(num_classes):\n",
        "        detections = []\n",
        "        ground_truths = []\n",
        "\n",
        "        # Go through all predictions and targets,\n",
        "        # and only add the ones that belong to the\n",
        "        # current class c\n",
        "        for detection in pred_boxes:\n",
        "            if detection[1] == c:\n",
        "                detections.append(detection)\n",
        "\n",
        "        for true_box in true_boxes:\n",
        "            if true_box[1] == c:\n",
        "                ground_truths.append(true_box)\n",
        "\n",
        "        # find the amount of bboxes for each training example\n",
        "        # Counter here finds how many ground truth bboxes we get\n",
        "        # for each training example, so let's say img 0 has 3,\n",
        "        # img 1 has 5 then we will obtain a dictionary with:\n",
        "        # amount_bboxes = {0:3, 1:5}\n",
        "        amount_bboxes = Counter([gt[0] for gt in ground_truths])\n",
        "\n",
        "        # We then go through each key, val in this dictionary\n",
        "        # and convert to the following (w.r.t same example):\n",
        "        # ammount_bboxes = {0:torch.tensor[0,0,0], 1:torch.tensor[0,0,0,0,0]}\n",
        "        for key, val in amount_bboxes.items():\n",
        "            amount_bboxes[key] = torch.zeros(val)\n",
        "\n",
        "        # sort by box probabilities which is index 2\n",
        "        detections.sort(key=lambda x: x[2], reverse=True)\n",
        "        TP = torch.zeros((len(detections)))\n",
        "        FP = torch.zeros((len(detections)))\n",
        "        total_true_bboxes = len(ground_truths)\n",
        "\n",
        "        # If none exists for this class then we can safely skip\n",
        "        if total_true_bboxes == 0:\n",
        "            continue\n",
        "\n",
        "        for detection_idx, detection in enumerate(detections):\n",
        "            # Only take out the ground_truths that have the same\n",
        "            # training idx as detection\n",
        "            ground_truth_img = [\n",
        "                bbox for bbox in ground_truths if bbox[0] == detection[0]\n",
        "            ]\n",
        "\n",
        "            num_gts = len(ground_truth_img)\n",
        "            best_iou = 0\n",
        "\n",
        "            for idx, gt in enumerate(ground_truth_img):\n",
        "                iou = intersection_over_union(\n",
        "                    torch.tensor(detection[3:]),\n",
        "                    torch.tensor(gt[3:]),\n",
        "                    box_format=box_format,\n",
        "                )\n",
        "\n",
        "                if iou > best_iou:\n",
        "                    best_iou = iou\n",
        "                    best_gt_idx = idx\n",
        "\n",
        "            if best_iou > iou_threshold:\n",
        "                # only detect ground truth detection once\n",
        "                if amount_bboxes[detection[0]][best_gt_idx] == 0:\n",
        "                    # true positive and add this bounding box to seen\n",
        "                    TP[detection_idx] = 1\n",
        "                    amount_bboxes[detection[0]][best_gt_idx] = 1\n",
        "                else:\n",
        "                    FP[detection_idx] = 1\n",
        "\n",
        "            # if IOU is lower then the detection is a false positive\n",
        "            else:\n",
        "                FP[detection_idx] = 1\n",
        "\n",
        "        TP_cumsum = torch.cumsum(TP, dim=0)\n",
        "        FP_cumsum = torch.cumsum(FP, dim=0)\n",
        "        recalls = TP_cumsum / (total_true_bboxes + epsilon)\n",
        "        precisions = TP_cumsum / (TP_cumsum + FP_cumsum + epsilon)\n",
        "        precisions = torch.cat((torch.tensor([1]), precisions))\n",
        "        recalls = torch.cat((torch.tensor([0]), recalls))\n",
        "        # torch.trapz for numerical integration\n",
        "        average_precisions.append(torch.trapz(precisions, recalls))\n",
        "\n",
        "    return sum(average_precisions) / len(average_precisions)\n"
      ]
    },
    {
      "cell_type": "code",
      "execution_count": null,
      "metadata": {
        "id": "OJE025crz20I"
      },
      "outputs": [],
      "source": [
        "def get_evaluation_bboxes(\n",
        "    loader,\n",
        "    model,\n",
        "    iou_threshold,\n",
        "    anchors,\n",
        "    threshold,\n",
        "    box_format=\"midpoint\",\n",
        "    device=\"cuda\",\n",
        "):\n",
        "    # make sure model is in eval before get bboxes\n",
        "    model.eval()\n",
        "    train_idx = 0\n",
        "    all_pred_boxes = []\n",
        "    all_true_boxes = []\n",
        "    for batch_idx, (x, labels) in enumerate(tqdm(loader)):\n",
        "        x = x.to(device)\n",
        "\n",
        "        with torch.no_grad():\n",
        "            predictions = model(x)\n",
        "\n",
        "        batch_size = x.shape[0]\n",
        "        bboxes = [[] for _ in range(batch_size)]\n",
        "        for i in range(3):\n",
        "            S = predictions[i].shape[2]\n",
        "            anchor = torch.tensor([*anchors[i]]).to(device) * S\n",
        "            boxes_scale_i = cells_to_bboxes(\n",
        "                predictions[i], anchor, S=S, is_preds=True\n",
        "            )\n",
        "            for idx, (box) in enumerate(boxes_scale_i):\n",
        "                bboxes[idx] += box\n",
        "\n",
        "        # we just want one bbox for each label, not one for each scale\n",
        "        true_bboxes = cells_to_bboxes(\n",
        "            labels[2], anchor, S=S, is_preds=False\n",
        "        )\n",
        "\n",
        "        for idx in range(batch_size):\n",
        "            nms_boxes = non_max_suppression(\n",
        "                bboxes[idx],\n",
        "                iou_threshold=iou_threshold,\n",
        "                threshold=threshold,\n",
        "                box_format=box_format,\n",
        "            )\n",
        "\n",
        "            for nms_box in nms_boxes:\n",
        "                all_pred_boxes.append([train_idx] + nms_box)\n",
        "\n",
        "            for box in true_bboxes[idx]:\n",
        "                if box[1] > threshold:\n",
        "                    all_true_boxes.append([train_idx] + box)\n",
        "\n",
        "            train_idx += 1\n",
        "\n",
        "    model.train()\n",
        "    return all_pred_boxes, all_true_boxes\n"
      ]
    },
    {
      "cell_type": "markdown",
      "source": [
        "This function takes into account Scales the predictions coming from the model to\n",
        "    be relative to the entire image such that they for example later\n",
        "    can be plotted or.\n",
        "\n",
        "    INPUT:\n",
        "    predictions: tensor of size (N, 3, S, S, num_classes+5)\n",
        "    anchors: the anchors used for the predictions\n",
        "    S: the number of cells the image is divided in on the width (and height)\n",
        "    is_preds: whether the input is predictions or the true bounding boxes\n",
        "    OUTPUT:\n",
        "    converted_bboxes: the converted boxes of sizes (N, num_anchors, S, S, 1+5) with class index,\n",
        "                      object score, bounding box coordinates\n"
      ],
      "metadata": {
        "id": "piTk9WSqjN2q"
      }
    },
    {
      "cell_type": "code",
      "execution_count": null,
      "metadata": {
        "id": "AIkXalYpz3j5"
      },
      "outputs": [],
      "source": [
        "def cells_to_bboxes(predictions, anchors, S, is_preds=True):\n",
        "    BATCH_SIZE = predictions.shape[0]\n",
        "    num_anchors = len(anchors)\n",
        "    box_predictions = predictions[..., 1:5]\n",
        "    if is_preds:\n",
        "        anchors = anchors.reshape(1, len(anchors), 1, 1, 2)\n",
        "        box_predictions[..., 0:2] = torch.sigmoid(box_predictions[..., 0:2])\n",
        "        box_predictions[..., 2:] = torch.exp(box_predictions[..., 2:]) * anchors\n",
        "        scores = torch.sigmoid(predictions[..., 0:1])\n",
        "        best_class = torch.argmax(predictions[..., 5:], dim=-1).unsqueeze(-1)\n",
        "    else:\n",
        "        scores = predictions[..., 0:1]\n",
        "        best_class = predictions[..., 5:6]\n",
        "\n",
        "    cell_indices = (\n",
        "        torch.arange(S)\n",
        "        .repeat(predictions.shape[0], 3, S, 1)\n",
        "        .unsqueeze(-1)\n",
        "        .to(predictions.device)\n",
        "    )\n",
        "    x = 1 / S * (box_predictions[..., 0:1] + cell_indices)\n",
        "    y = 1 / S * (box_predictions[..., 1:2] + cell_indices.permute(0, 1, 3, 2, 4))\n",
        "    w_h = 1 / S * box_predictions[..., 2:4]\n",
        "    converted_bboxes = torch.cat((best_class, scores, x, y, w_h), dim=-1).reshape(BATCH_SIZE, num_anchors * S * S, 6)\n",
        "    return converted_bboxes.tolist()\n",
        "\n"
      ]
    },
    {
      "cell_type": "markdown",
      "source": [
        "This function checks the accuracy of the model by calculating class accurcay, Object accurcay and No object accuracy."
      ],
      "metadata": {
        "id": "RxursH_uj4rh"
      }
    },
    {
      "cell_type": "code",
      "execution_count": null,
      "metadata": {
        "id": "6JMRmwnm5WOp"
      },
      "outputs": [],
      "source": [
        "def check_class_accuracy(model, loader, threshold):\n",
        "    model.eval()\n",
        "    tot_class_preds, correct_class = 0, 0\n",
        "    tot_noobj, correct_noobj = 0, 0\n",
        "    tot_obj, correct_obj = 0, 0\n",
        "\n",
        "    for idx, (x, y) in enumerate(tqdm(loader)):\n",
        "        x = x.to(DEVICE)\n",
        "        with torch.no_grad():\n",
        "            out = model(x)\n",
        "\n",
        "        for i in range(3):\n",
        "            y[i] = y[i].to(DEVICE)\n",
        "            obj = y[i][..., 0] == 1 # in paper this is Iobj_i\n",
        "            noobj = y[i][..., 0] == 0  # in paper this is Iobj_i\n",
        "\n",
        "            correct_class += torch.sum(\n",
        "                torch.argmax(out[i][..., 5:][obj], dim=-1) == y[i][..., 5][obj]\n",
        "            )\n",
        "            tot_class_preds += torch.sum(obj)\n",
        "\n",
        "            obj_preds = torch.sigmoid(out[i][..., 0]) > threshold\n",
        "            correct_obj += torch.sum(obj_preds[obj] == y[i][..., 0][obj])\n",
        "            tot_obj += torch.sum(obj)\n",
        "            correct_noobj += torch.sum(obj_preds[noobj] == y[i][..., 0][noobj])\n",
        "            tot_noobj += torch.sum(noobj)\n",
        "\n",
        "    print(f\"Class accuracy is: {(correct_class/(tot_class_preds+1e-16))*100:2f}%\")\n",
        "    print(f\"No obj accuracy is: {(correct_noobj/(tot_noobj+1e-16))*100:2f}%\")\n",
        "    print(f\"Obj accuracy is: {(correct_obj/(tot_obj+1e-16))*100:2f}%\")\n",
        "    model.train()\n",
        "\n",
        "    return (correct_class/(tot_class_preds+1e-16))*100, (correct_noobj/(tot_noobj+1e-16))*100, (correct_obj/(tot_obj+1e-16))*100\n",
        "\n"
      ]
    },
    {
      "cell_type": "markdown",
      "source": [
        "The below functon is to save and load checkpoints for future refrences."
      ],
      "metadata": {
        "id": "KtwFWeB6l4JG"
      }
    },
    {
      "cell_type": "code",
      "execution_count": null,
      "metadata": {
        "id": "Jhu72xx-51bU"
      },
      "outputs": [],
      "source": [
        "def save_checkpoint(model, optimizer, loss, filename=\"my_checkpoint.pth.tar\"):\n",
        "    print(\"=> Saving checkpoint\")\n",
        "    checkpoint = {\n",
        "        \"state_dict\": model.state_dict(),\n",
        "        \"optimizer\": optimizer.state_dict(),\n",
        "        \"loss\": loss.state_dict(),\n",
        "    }\n",
        "    torch.save(checkpoint, filename)\n",
        "\n",
        "\n",
        "\n",
        "def load_checkpoint(checkpoint_file, model, optimizer, loss, lr):\n",
        "    print(\"=> Loading checkpoint\")\n",
        "    checkpoint = torch.load(checkpoint_file, map_location=DEVICE)\n",
        "    model.load_state_dict(checkpoint[\"state_dict\"])\n",
        "    optimizer.load_state_dict(checkpoint[\"optimizer\"])\n",
        "    loss.load_state_dict(checkpoint[\"loss\"])\n",
        "    \n",
        "    for param_group in optimizer.param_groups:\n",
        "        param_group[\"lr\"] = lr\n",
        "\n"
      ]
    },
    {
      "cell_type": "markdown",
      "source": [
        "This class is to load dataset and do some important computations.\n",
        "\n",
        "\n",
        "1.   First it takes into account all the ground truth bounding boxes. calculate Intersection over union between the created anchors and bounding boxes.\n",
        "2.   Starting from all the highest IOU anchors start recognizing on which scale it is.\n",
        "3.   Finally the targets are adjusted according to bounding boxes and width and height of anchors. \n",
        "\n",
        "\n",
        "\n"
      ],
      "metadata": {
        "id": "cJkgrYqLmEKu"
      }
    },
    {
      "cell_type": "code",
      "execution_count": null,
      "metadata": {
        "id": "yEWHYiy383nQ"
      },
      "outputs": [],
      "source": [
        "from PIL import Image, ImageFile\n",
        "from torch.utils.data import Dataset, DataLoader\n",
        "\n",
        "ImageFile.LOAD_TRUNCATED_IMAGES = True\n",
        "\n",
        "class YOLODataset(Dataset):\n",
        "    def __init__(self, csv_file, img_dir, label_dir, anchors, image_size=416, S=[13, 26, 52], C=20, transform=None,):\n",
        "\n",
        "      \n",
        "        self.annotations = pd.read_csv(csv_file, nrows=100)\n",
        "        self.img_dir = img_dir\n",
        "        self.label_dir = label_dir\n",
        "        self.image_size = image_size\n",
        "        self.transform = transform\n",
        "        self.S = S\n",
        "        self.anchors = torch.tensor(anchors[0] + anchors[1] + anchors[2])  # for all 3 scales\n",
        "        self.num_anchors = self.anchors.shape[0]\n",
        "        self.num_anchors_per_scale = self.num_anchors // 3\n",
        "        self.C = C\n",
        "        self.ignore_iou_thresh = 0.5\n",
        "\n",
        "    def __len__(self):\n",
        "        return len(self.annotations)\n",
        "\n",
        "    def __getitem__(self, index):\n",
        "        label_path = os.path.join(self.label_dir, self.annotations.iloc[index, 1])\n",
        "        bboxes = np.roll(np.loadtxt(fname=label_path, delimiter=\" \", ndmin=2), 4, axis=1).tolist()\n",
        "        img_path = os.path.join(self.img_dir, self.annotations.iloc[index, 0])\n",
        "        image = np.array(Image.open(img_path).convert(\"RGB\"))\n",
        "\n",
        "        if self.transform:\n",
        "            augmentations = self.transform(image=image, bboxes=bboxes)\n",
        "            image = augmentations[\"image\"]\n",
        "            bboxes = augmentations[\"bboxes\"]\n",
        "\n",
        "        # Below assumes 3 scale predictions (as paper) and same num of anchors per scale\n",
        "        targets = [torch.zeros((self.num_anchors // 3, S, S, 6)) for S in self.S]\n",
        "        for box in bboxes:\n",
        "            iou_anchors = iou_width_height(torch.tensor(box[2:4]), self.anchors)\n",
        "            anchor_indices = iou_anchors.argsort(descending=True, dim=0)\n",
        "            x, y, width, height, class_label = box\n",
        "            has_anchor = [False] * 3  # each scale should have one anchor\n",
        "            for anchor_idx in anchor_indices:\n",
        "                scale_idx = anchor_idx // self.num_anchors_per_scale\n",
        "                anchor_on_scale = anchor_idx % self.num_anchors_per_scale\n",
        "                S = self.S[scale_idx]\n",
        "                i, j = int(S * y), int(S * x)  # which cell\n",
        "                anchor_taken = targets[scale_idx][anchor_on_scale, i, j, 0]\n",
        "                if not anchor_taken and not has_anchor[scale_idx]:\n",
        "                    targets[scale_idx][anchor_on_scale, i, j, 0] = 1\n",
        "                    x_cell, y_cell = S * x - j, S * y - i  # both between [0,1]\n",
        "                    width_cell, height_cell = (\n",
        "                        width * S,\n",
        "                        height * S,\n",
        "                    )  # can be greater than 1 since it's relative to cell\n",
        "                    box_coordinates = torch.tensor(\n",
        "                        [x_cell, y_cell, width_cell, height_cell]\n",
        "                    )\n",
        "                    targets[scale_idx][anchor_on_scale, i, j, 1:5] = box_coordinates\n",
        "                    targets[scale_idx][anchor_on_scale, i, j, 5] = int(class_label)\n",
        "                    has_anchor[scale_idx] = True\n",
        "\n",
        "                elif not anchor_taken and iou_anchors[anchor_idx] > self.ignore_iou_thresh:\n",
        "                    targets[scale_idx][anchor_on_scale, i, j, 0] = -1  # ignore prediction\n",
        "\n",
        "        return image, tuple(targets)\n"
      ]
    },
    {
      "cell_type": "markdown",
      "source": [
        "This function includes the loss function as described in the main YOLO research paper."
      ],
      "metadata": {
        "id": "QmkWM4Oyrfaq"
      }
    },
    {
      "cell_type": "code",
      "execution_count": null,
      "metadata": {
        "id": "TdR5l_WcLHsG"
      },
      "outputs": [],
      "source": [
        "import random\n",
        "import torch\n",
        "import torch.nn as nn\n",
        "\n",
        "class YoloLoss(nn.Module):\n",
        "    def __init__(self):\n",
        "        super().__init__()\n",
        "        self.mse = nn.MSELoss()\n",
        "        self.bce = nn.BCEWithLogitsLoss()\n",
        "        self.entropy = nn.CrossEntropyLoss()\n",
        "        self.sigmoid = nn.Sigmoid()\n",
        "\n",
        "        # Constants signifying how much to pay for each respective part of the loss\n",
        "        self.lambda_class = 1\n",
        "        self.lambda_noobj = 10\n",
        "        self.lambda_obj = 1\n",
        "        self.lambda_box = 10\n",
        "\n",
        "    def forward(self, predictions, target, anchors):\n",
        "        # Check where obj and noobj (we ignore if target == -1)\n",
        "        obj = target[..., 0] == 1  # in paper this is Iobj_i\n",
        "        noobj = target[..., 0] == 0  # in paper this is Inoobj_i\n",
        "\n",
        "        # ======================= #\n",
        "        #   FOR NO OBJECT LOSS    #\n",
        "        # ======================= #\n",
        "\n",
        "        no_object_loss = self.bce(\n",
        "            (predictions[..., 0:1][noobj]), (target[..., 0:1][noobj]),\n",
        "        )\n",
        "\n",
        "        # ==================== #\n",
        "        #   FOR OBJECT LOSS    #\n",
        "        # ==================== #\n",
        "\n",
        "        anchors = anchors.reshape(1, 3, 1, 1, 2)\n",
        "        box_preds = torch.cat([self.sigmoid(predictions[..., 1:3]), torch.exp(predictions[..., 3:5]) * anchors], dim=-1)\n",
        "        ious = intersection_over_union(box_preds[obj], target[..., 1:5][obj]).detach()\n",
        "        object_loss = self.mse(self.sigmoid(predictions[..., 0:1][obj]), ious * target[..., 0:1][obj])\n",
        "\n",
        "        # ======================== #\n",
        "        #   FOR BOX COORDINATES    #\n",
        "        # ======================== #\n",
        "\n",
        "        predictions[..., 1:3] = self.sigmoid(predictions[..., 1:3])  # x,y coordinates\n",
        "        target[..., 3:5] = torch.log(\n",
        "            (1e-16 + target[..., 3:5] / anchors)\n",
        "        )  # width, height coordinates\n",
        "        box_loss = self.mse(predictions[..., 1:5][obj], target[..., 1:5][obj])\n",
        "\n",
        "        # ================== #\n",
        "        #   FOR CLASS LOSS   #\n",
        "        # ================== #\n",
        "\n",
        "        class_loss = self.entropy(\n",
        "            (predictions[..., 5:][obj]), (target[..., 5][obj].long()),\n",
        "        )\n",
        "\n",
        "        #print(\"__________________________________\")\n",
        "        #print(self.lambda_box * box_loss)\n",
        "        #print(self.lambda_obj * object_loss)\n",
        "        #print(self.lambda_noobj * no_object_loss)\n",
        "        #print(self.lambda_class * class_loss)\n",
        "        #print(\"\\n\")\n",
        "\n",
        "        return (\n",
        "            self.lambda_box * box_loss\n",
        "            + self.lambda_obj * object_loss\n",
        "            + self.lambda_noobj * no_object_loss\n",
        "            + self.lambda_class * class_loss\n",
        "        )"
      ]
    },
    {
      "cell_type": "code",
      "execution_count": null,
      "metadata": {
        "id": "9RGjPTm1LRwP"
      },
      "outputs": [],
      "source": [
        "import warnings\n",
        "warnings.filterwarnings(\"ignore\")\n",
        "\n",
        "import torch.optim as optim\n",
        "\n",
        "torch.backends.cudnn.benchmark = True\n",
        "\n",
        "\n",
        "def train_fn(train_loader, model, optimizer, loss_fn, scaler, scaled_anchors):\n",
        "    loop = tqdm(train_loader, leave=True, colour='green') # to get a progress bar\n",
        "    losses = []\n",
        "    for batch_idx, (x, y) in enumerate(loop):\n",
        "        x = x.to(DEVICE)\n",
        "        y0, y1, y2 = (\n",
        "            y[0].to(DEVICE),\n",
        "            y[1].to(DEVICE),\n",
        "            y[2].to(DEVICE),\n",
        "        )\n",
        "\n",
        "        with torch.cuda.amp.autocast():\n",
        "            out = model(x)\n",
        "            loss = (\n",
        "                loss_fn(out[0], y0, scaled_anchors[0])\n",
        "                + loss_fn(out[1], y1, scaled_anchors[1])\n",
        "                + loss_fn(out[2], y2, scaled_anchors[2])\n",
        "            )\n",
        "\n",
        "        losses.append(loss.item())\n",
        "        optimizer.zero_grad()\n",
        "        scaler.scale(loss).backward()\n",
        "        scaler.step(optimizer)\n",
        "        scaler.update()\n",
        "\n",
        "        # update progress bar\n",
        "        mean_loss = sum(losses) / len(losses)\n",
        "        loop.set_postfix(loss=mean_loss)\n",
        "      \n",
        "    return mean_loss"
      ]
    },
    {
      "cell_type": "markdown",
      "source": [
        "This function is for plotting the graphs"
      ],
      "metadata": {
        "id": "xTERvd4Pr1kP"
      }
    },
    {
      "cell_type": "code",
      "execution_count": null,
      "metadata": {
        "id": "DUX_OFW3S2FT"
      },
      "outputs": [],
      "source": [
        "def experiment_plots(Epoch_list, loss_list, class_accuracy_list, noobj_accuracy_list, obj_accuracy_list):\n",
        "  fig, axs = plt.subplots(2,2, figsize=(10,10))\n",
        "\n",
        "  line1,=axs[0,0].plot(Epoch_list, loss_list, color='green', linestyle='dashed', linewidth = 3, marker='o', markerfacecolor='black', markersize=12)\n",
        "  axs[0,0].set_xlabel('Epochs')\n",
        "  axs[0,0].set_ylabel('loss')\n",
        "  axs[0,0].grid()\n",
        "  line1.set_dashes([5, 1])\n",
        "  axs[0,1].plot(Epoch_list, torch.Tensor(class_accuracy_list).to('cpu').numpy(), color='blue', linestyle='dashed', linewidth = 3, marker='o', markerfacecolor='black', markersize=12)\n",
        "  axs[0,1].set_xlabel('Epochs')\n",
        "  axs[0,1].set_ylabel('Class Accuracy')\n",
        "  axs[0,1].grid()\n",
        "  axs[1,0].plot(Epoch_list, torch.Tensor(noobj_accuracy_list).to('cpu').numpy(), color='red', linestyle='dashed', linewidth = 3, marker='o', markerfacecolor='black', markersize=12)\n",
        "  axs[1,0].set_xlabel('Epochs')\n",
        "  axs[1,0].set_ylabel('No Object Accuracy')\n",
        "  axs[1,0].grid()\n",
        "  axs[1,1].plot(Epoch_list, torch.Tensor(obj_accuracy_list).to('cpu').numpy(), color='m', linestyle='dashed', linewidth = 3, marker='o', markerfacecolor='black', markersize=12)\n",
        "  axs[1,1].set_xlabel('Epochs')\n",
        "  axs[1,1].set_ylabel('Object Accuracy')\n",
        "  axs[1,1].grid()\n",
        "\n",
        "  fig.tight_layout()\n",
        "\n",
        "  plt.show()"
      ]
    },
    {
      "cell_type": "code",
      "execution_count": null,
      "metadata": {
        "colab": {
          "base_uri": "https://localhost:8080/",
          "height": 1000
        },
        "id": "6EbZT0e9j6A0",
        "outputId": "08ab07e2-8b4e-4617-aa0e-6d7cf4ba1907"
      },
      "outputs": [
        {
          "name": "stdout",
          "output_type": "stream",
          "text": [
            "For optimizer: RMSprop (\n",
            "Parameter Group 0\n",
            "    alpha: 0.99\n",
            "    centered: False\n",
            "    eps: 1e-08\n",
            "    foreach: None\n",
            "    lr: 0.0003\n",
            "    momentum: 0\n",
            "    weight_decay: 0\n",
            ")\n",
            "Running epoch number: 0\n"
          ]
        },
        {
          "name": "stderr",
          "output_type": "stream",
          "text": [
            "100%|\u001b[32m██████████\u001b[0m| 518/518 [11:39<00:00,  1.35s/it, loss=18]\n"
          ]
        },
        {
          "name": "stdout",
          "output_type": "stream",
          "text": [
            "=> Saving checkpoint\n"
          ]
        },
        {
          "name": "stderr",
          "output_type": "stream",
          "text": [
            "100%|██████████| 518/518 [07:31<00:00,  1.15it/s]\n"
          ]
        },
        {
          "name": "stdout",
          "output_type": "stream",
          "text": [
            "Class accuracy is: 33.015553%\n",
            "No obj accuracy is: 100.000000%\n",
            "Obj accuracy is: 0.000000%\n",
            "Running epoch number: 1\n"
          ]
        },
        {
          "name": "stderr",
          "output_type": "stream",
          "text": [
            "100%|\u001b[32m██████████\u001b[0m| 518/518 [11:27<00:00,  1.33s/it, loss=13.9]\n"
          ]
        },
        {
          "name": "stdout",
          "output_type": "stream",
          "text": [
            "=> Saving checkpoint\n"
          ]
        },
        {
          "name": "stderr",
          "output_type": "stream",
          "text": [
            "100%|██████████| 518/518 [07:23<00:00,  1.17it/s]\n"
          ]
        },
        {
          "name": "stdout",
          "output_type": "stream",
          "text": [
            "Class accuracy is: 32.879551%\n",
            "No obj accuracy is: 99.999985%\n",
            "Obj accuracy is: 0.000846%\n",
            "Running epoch number: 2\n"
          ]
        },
        {
          "name": "stderr",
          "output_type": "stream",
          "text": [
            "100%|\u001b[32m██████████\u001b[0m| 518/518 [11:22<00:00,  1.32s/it, loss=12.9]\n"
          ]
        },
        {
          "name": "stdout",
          "output_type": "stream",
          "text": [
            "=> Saving checkpoint\n"
          ]
        },
        {
          "name": "stderr",
          "output_type": "stream",
          "text": [
            "100%|██████████| 518/518 [07:21<00:00,  1.17it/s]\n"
          ]
        },
        {
          "name": "stdout",
          "output_type": "stream",
          "text": [
            "Class accuracy is: 36.640976%\n",
            "No obj accuracy is: 99.958298%\n",
            "Obj accuracy is: 2.733834%\n",
            "Running epoch number: 3\n"
          ]
        },
        {
          "name": "stderr",
          "output_type": "stream",
          "text": [
            "100%|\u001b[32m██████████\u001b[0m| 518/518 [11:25<00:00,  1.32s/it, loss=12]\n"
          ]
        },
        {
          "name": "stdout",
          "output_type": "stream",
          "text": [
            "=> Saving checkpoint\n"
          ]
        },
        {
          "name": "stderr",
          "output_type": "stream",
          "text": [
            "100%|██████████| 518/518 [07:35<00:00,  1.14it/s]\n"
          ]
        },
        {
          "name": "stdout",
          "output_type": "stream",
          "text": [
            "Class accuracy is: 37.878609%\n",
            "No obj accuracy is: 99.990974%\n",
            "Obj accuracy is: 0.966265%\n",
            "Running epoch number: 4\n"
          ]
        },
        {
          "name": "stderr",
          "output_type": "stream",
          "text": [
            "100%|\u001b[32m██████████\u001b[0m| 518/518 [11:33<00:00,  1.34s/it, loss=11.3]\n"
          ]
        },
        {
          "name": "stdout",
          "output_type": "stream",
          "text": [
            "=> Saving checkpoint\n"
          ]
        },
        {
          "name": "stderr",
          "output_type": "stream",
          "text": [
            "100%|██████████| 518/518 [07:40<00:00,  1.12it/s]\n"
          ]
        },
        {
          "name": "stdout",
          "output_type": "stream",
          "text": [
            "Class accuracy is: 30.372890%\n",
            "No obj accuracy is: 99.772278%\n",
            "Obj accuracy is: 4.504444%\n",
            "Running epoch number: 5\n"
          ]
        },
        {
          "name": "stderr",
          "output_type": "stream",
          "text": [
            "100%|\u001b[32m██████████\u001b[0m| 518/518 [11:44<00:00,  1.36s/it, loss=10.5]\n"
          ]
        },
        {
          "name": "stdout",
          "output_type": "stream",
          "text": [
            "=> Saving checkpoint\n"
          ]
        },
        {
          "name": "stderr",
          "output_type": "stream",
          "text": [
            "100%|██████████| 518/518 [07:54<00:00,  1.09it/s]\n"
          ]
        },
        {
          "name": "stdout",
          "output_type": "stream",
          "text": [
            "Class accuracy is: 38.253574%\n",
            "No obj accuracy is: 99.818710%\n",
            "Obj accuracy is: 5.264983%\n",
            "On test Loader\n"
          ]
        },
        {
          "name": "stderr",
          "output_type": "stream",
          "text": [
            "100%|██████████| 155/155 [01:55<00:00,  1.34it/s]\n"
          ]
        },
        {
          "name": "stdout",
          "output_type": "stream",
          "text": [
            "Class accuracy is: 42.765312%\n",
            "No obj accuracy is: 99.872353%\n",
            "Obj accuracy is: 4.563591%\n"
          ]
        },
        {
          "name": "stderr",
          "output_type": "stream",
          "text": [
            "100%|██████████| 155/155 [04:16<00:00,  1.65s/it]\n"
          ]
        },
        {
          "name": "stdout",
          "output_type": "stream",
          "text": [
            "MAP: 0.007542128209024668\n",
            "Running epoch number: 6\n"
          ]
        },
        {
          "name": "stderr",
          "output_type": "stream",
          "text": [
            "100%|\u001b[32m██████████\u001b[0m| 518/518 [11:38<00:00,  1.35s/it, loss=9.97]\n"
          ]
        },
        {
          "name": "stdout",
          "output_type": "stream",
          "text": [
            "=> Saving checkpoint\n"
          ]
        },
        {
          "name": "stderr",
          "output_type": "stream",
          "text": [
            "100%|██████████| 518/518 [07:35<00:00,  1.14it/s]\n"
          ]
        },
        {
          "name": "stdout",
          "output_type": "stream",
          "text": [
            "Class accuracy is: 34.732849%\n",
            "No obj accuracy is: 99.968597%\n",
            "Obj accuracy is: 2.689703%\n",
            "Running epoch number: 7\n"
          ]
        },
        {
          "name": "stderr",
          "output_type": "stream",
          "text": [
            "100%|\u001b[32m██████████\u001b[0m| 518/518 [11:24<00:00,  1.32s/it, loss=9.44]\n"
          ]
        },
        {
          "name": "stdout",
          "output_type": "stream",
          "text": [
            "=> Saving checkpoint\n"
          ]
        },
        {
          "name": "stderr",
          "output_type": "stream",
          "text": [
            "100%|██████████| 518/518 [07:18<00:00,  1.18it/s]\n"
          ]
        },
        {
          "name": "stdout",
          "output_type": "stream",
          "text": [
            "Class accuracy is: 28.811064%\n",
            "No obj accuracy is: 99.847015%\n",
            "Obj accuracy is: 4.952060%\n",
            "Running epoch number: 8\n"
          ]
        },
        {
          "name": "stderr",
          "output_type": "stream",
          "text": [
            "100%|\u001b[32m██████████\u001b[0m| 518/518 [11:20<00:00,  1.31s/it, loss=9.06]\n"
          ]
        },
        {
          "name": "stdout",
          "output_type": "stream",
          "text": [
            "=> Saving checkpoint\n"
          ]
        },
        {
          "name": "stderr",
          "output_type": "stream",
          "text": [
            "100%|██████████| 518/518 [07:19<00:00,  1.18it/s]\n"
          ]
        },
        {
          "name": "stdout",
          "output_type": "stream",
          "text": [
            "Class accuracy is: 31.656635%\n",
            "No obj accuracy is: 99.095787%\n",
            "Obj accuracy is: 17.867409%\n",
            "Running epoch number: 9\n"
          ]
        },
        {
          "name": "stderr",
          "output_type": "stream",
          "text": [
            "100%|\u001b[32m██████████\u001b[0m| 518/518 [11:16<00:00,  1.31s/it, loss=8.7]\n"
          ]
        },
        {
          "name": "stdout",
          "output_type": "stream",
          "text": [
            "=> Saving checkpoint\n"
          ]
        },
        {
          "name": "stderr",
          "output_type": "stream",
          "text": [
            "100%|██████████| 518/518 [07:20<00:00,  1.18it/s]\n"
          ]
        },
        {
          "name": "stdout",
          "output_type": "stream",
          "text": [
            "Class accuracy is: 44.189995%\n",
            "No obj accuracy is: 99.456604%\n",
            "Obj accuracy is: 14.460153%\n",
            "Running epoch number: 10\n"
          ]
        },
        {
          "name": "stderr",
          "output_type": "stream",
          "text": [
            "100%|\u001b[32m██████████\u001b[0m| 518/518 [11:20<00:00,  1.31s/it, loss=8.39]\n"
          ]
        },
        {
          "name": "stdout",
          "output_type": "stream",
          "text": [
            "=> Saving checkpoint\n"
          ]
        },
        {
          "name": "stderr",
          "output_type": "stream",
          "text": [
            "100%|██████████| 518/518 [07:13<00:00,  1.19it/s]\n"
          ]
        },
        {
          "name": "stdout",
          "output_type": "stream",
          "text": [
            "Class accuracy is: 36.749523%\n",
            "No obj accuracy is: 99.427452%\n",
            "Obj accuracy is: 14.282094%\n",
            "On test Loader\n"
          ]
        },
        {
          "name": "stderr",
          "output_type": "stream",
          "text": [
            "100%|██████████| 155/155 [01:47<00:00,  1.45it/s]\n"
          ]
        },
        {
          "name": "stdout",
          "output_type": "stream",
          "text": [
            "Class accuracy is: 39.684124%\n",
            "No obj accuracy is: 99.552177%\n",
            "Obj accuracy is: 13.297312%\n"
          ]
        },
        {
          "name": "stderr",
          "output_type": "stream",
          "text": [
            "100%|██████████| 155/155 [05:04<00:00,  1.97s/it]\n"
          ]
        },
        {
          "name": "stdout",
          "output_type": "stream",
          "text": [
            "MAP: 0.023397931829094887\n",
            "Running epoch number: 11\n"
          ]
        },
        {
          "name": "stderr",
          "output_type": "stream",
          "text": [
            "100%|\u001b[32m██████████\u001b[0m| 518/518 [11:16<00:00,  1.31s/it, loss=8.11]\n"
          ]
        },
        {
          "name": "stdout",
          "output_type": "stream",
          "text": [
            "=> Saving checkpoint\n"
          ]
        },
        {
          "name": "stderr",
          "output_type": "stream",
          "text": [
            "100%|██████████| 518/518 [07:32<00:00,  1.14it/s]\n"
          ]
        },
        {
          "name": "stdout",
          "output_type": "stream",
          "text": [
            "Class accuracy is: 47.949581%\n",
            "No obj accuracy is: 98.571594%\n",
            "Obj accuracy is: 28.158049%\n",
            "Running epoch number: 12\n"
          ]
        },
        {
          "name": "stderr",
          "output_type": "stream",
          "text": [
            "100%|\u001b[32m██████████\u001b[0m| 518/518 [11:31<00:00,  1.34s/it, loss=7.87]\n"
          ]
        },
        {
          "name": "stdout",
          "output_type": "stream",
          "text": [
            "=> Saving checkpoint\n"
          ]
        },
        {
          "name": "stderr",
          "output_type": "stream",
          "text": [
            "100%|██████████| 518/518 [07:35<00:00,  1.14it/s]\n"
          ]
        },
        {
          "name": "stdout",
          "output_type": "stream",
          "text": [
            "Class accuracy is: 53.996414%\n",
            "No obj accuracy is: 99.494308%\n",
            "Obj accuracy is: 19.751219%\n",
            "Running epoch number: 13\n"
          ]
        },
        {
          "name": "stderr",
          "output_type": "stream",
          "text": [
            "100%|\u001b[32m██████████\u001b[0m| 518/518 [11:47<00:00,  1.37s/it, loss=7.61]\n"
          ]
        },
        {
          "name": "stdout",
          "output_type": "stream",
          "text": [
            "=> Saving checkpoint\n"
          ]
        },
        {
          "name": "stderr",
          "output_type": "stream",
          "text": [
            "100%|██████████| 518/518 [07:49<00:00,  1.10it/s]\n"
          ]
        },
        {
          "name": "stdout",
          "output_type": "stream",
          "text": [
            "Class accuracy is: 33.887959%\n",
            "No obj accuracy is: 98.919296%\n",
            "Obj accuracy is: 24.260639%\n",
            "Running epoch number: 14\n"
          ]
        },
        {
          "name": "stderr",
          "output_type": "stream",
          "text": [
            "100%|\u001b[32m██████████\u001b[0m| 518/518 [11:47<00:00,  1.37s/it, loss=7.35]\n"
          ]
        },
        {
          "name": "stdout",
          "output_type": "stream",
          "text": [
            "=> Saving checkpoint\n"
          ]
        },
        {
          "name": "stderr",
          "output_type": "stream",
          "text": [
            "100%|██████████| 518/518 [07:45<00:00,  1.11it/s]\n"
          ]
        },
        {
          "name": "stdout",
          "output_type": "stream",
          "text": [
            "Class accuracy is: 60.282074%\n",
            "No obj accuracy is: 99.645958%\n",
            "Obj accuracy is: 24.010242%\n",
            "Running epoch number: 15\n"
          ]
        },
        {
          "name": "stderr",
          "output_type": "stream",
          "text": [
            "100%|\u001b[32m██████████\u001b[0m| 518/518 [11:41<00:00,  1.35s/it, loss=7.17]\n"
          ]
        },
        {
          "name": "stdout",
          "output_type": "stream",
          "text": [
            "=> Saving checkpoint\n"
          ]
        },
        {
          "name": "stderr",
          "output_type": "stream",
          "text": [
            "100%|██████████| 518/518 [07:44<00:00,  1.12it/s]\n"
          ]
        },
        {
          "name": "stdout",
          "output_type": "stream",
          "text": [
            "Class accuracy is: 53.425537%\n",
            "No obj accuracy is: 98.755356%\n",
            "Obj accuracy is: 36.369244%\n",
            "On test Loader\n"
          ]
        },
        {
          "name": "stderr",
          "output_type": "stream",
          "text": [
            "100%|██████████| 155/155 [01:54<00:00,  1.35it/s]\n"
          ]
        },
        {
          "name": "stdout",
          "output_type": "stream",
          "text": [
            "Class accuracy is: 56.275974%\n",
            "No obj accuracy is: 98.730904%\n",
            "Obj accuracy is: 40.415627%\n"
          ]
        },
        {
          "name": "stderr",
          "output_type": "stream",
          "text": [
            "100%|██████████| 155/155 [10:33<00:00,  4.09s/it]\n"
          ]
        },
        {
          "name": "stdout",
          "output_type": "stream",
          "text": [
            "MAP: 0.0793902650475502\n",
            "Running epoch number: 16\n"
          ]
        },
        {
          "name": "stderr",
          "output_type": "stream",
          "text": [
            "100%|\u001b[32m██████████\u001b[0m| 518/518 [11:48<00:00,  1.37s/it, loss=6.96]\n"
          ]
        },
        {
          "name": "stdout",
          "output_type": "stream",
          "text": [
            "=> Saving checkpoint\n"
          ]
        },
        {
          "name": "stderr",
          "output_type": "stream",
          "text": [
            "100%|██████████| 518/518 [07:49<00:00,  1.10it/s]\n"
          ]
        },
        {
          "name": "stdout",
          "output_type": "stream",
          "text": [
            "Class accuracy is: 55.461086%\n",
            "No obj accuracy is: 99.587288%\n",
            "Obj accuracy is: 29.619926%\n",
            "Running epoch number: 17\n"
          ]
        },
        {
          "name": "stderr",
          "output_type": "stream",
          "text": [
            "100%|\u001b[32m██████████\u001b[0m| 518/518 [11:48<00:00,  1.37s/it, loss=6.8]\n"
          ]
        },
        {
          "name": "stdout",
          "output_type": "stream",
          "text": [
            "=> Saving checkpoint\n"
          ]
        },
        {
          "name": "stderr",
          "output_type": "stream",
          "text": [
            "100%|██████████| 518/518 [07:48<00:00,  1.11it/s]\n"
          ]
        },
        {
          "name": "stdout",
          "output_type": "stream",
          "text": [
            "Class accuracy is: 54.687542%\n",
            "No obj accuracy is: 99.107811%\n",
            "Obj accuracy is: 35.802063%\n",
            "Running epoch number: 18\n"
          ]
        },
        {
          "name": "stderr",
          "output_type": "stream",
          "text": [
            "100%|\u001b[32m██████████\u001b[0m| 518/518 [11:48<00:00,  1.37s/it, loss=6.61]\n"
          ]
        },
        {
          "name": "stdout",
          "output_type": "stream",
          "text": [
            "=> Saving checkpoint\n"
          ]
        },
        {
          "name": "stderr",
          "output_type": "stream",
          "text": [
            "100%|██████████| 518/518 [07:47<00:00,  1.11it/s]\n"
          ]
        },
        {
          "name": "stdout",
          "output_type": "stream",
          "text": [
            "Class accuracy is: 64.193092%\n",
            "No obj accuracy is: 98.921837%\n",
            "Obj accuracy is: 37.966385%\n",
            "Running epoch number: 19\n"
          ]
        },
        {
          "name": "stderr",
          "output_type": "stream",
          "text": [
            "100%|\u001b[32m██████████\u001b[0m| 518/518 [11:44<00:00,  1.36s/it, loss=6.45]\n"
          ]
        },
        {
          "name": "stdout",
          "output_type": "stream",
          "text": [
            "=> Saving checkpoint\n"
          ]
        },
        {
          "name": "stderr",
          "output_type": "stream",
          "text": [
            "100%|██████████| 518/518 [07:42<00:00,  1.12it/s]\n"
          ]
        },
        {
          "name": "stdout",
          "output_type": "stream",
          "text": [
            "Class accuracy is: 58.637543%\n",
            "No obj accuracy is: 99.576363%\n",
            "Obj accuracy is: 29.210558%\n"
          ]
        },
        {
          "data": {
            "image/png": "[encoded data removed]",
            "text/plain": [
              "<Figure size 720x720 with 4 Axes>"
            ]
          },
          "metadata": {},
          "output_type": "display_data"
        }
      ],
      "source": [
        "import torch\n",
        "model = YOLOV3(num_classes=NUM_CLASSES).to(DEVICE)\n",
        "\n",
        "#optimizer1 = optim.Adam(model.parameters(), lr=LEARNING_RATE, weight_decay=WEIGHT_DECAY)\n",
        "#optimizer2 = optim.SGD(model.parameters(), lr=LEARNING_RATE, weight_decay=WEIGHT_DECAY, momentum=0.9)\n",
        "optimizer3 = optim.RMSprop(model.parameters(), lr=LEARNING_RATE, weight_decay=WEIGHT_DECAY)\n",
        "#optimizer4 = optim.Adagrad(model.parameters(), lr=LEARNING_RATE, weight_decay=WEIGHT_DECAY)\n",
        "\n",
        "map_dict={}\n",
        "Epoch_dict={}\n",
        "loss_dict={}\n",
        "class_accuracy_dict={}\n",
        "noobj_accuracy_dict={}\n",
        "obj_accuracy_dict={}\n",
        "\n",
        "optimizer_list=[ optimizer3 ]\n",
        "for different_optimizers in optimizer_list:\n",
        "  map_list=[]\n",
        "  Epoch_list=[]\n",
        "  loss_list=[]\n",
        "  class_accuracy_list=[]\n",
        "  noobj_accuracy_list=[]\n",
        "  obj_accuracy_list=[]\n",
        "  optimizer = different_optimizers\n",
        "  print('For optimizer:',optimizer)\n",
        "  loss_fn = YoloLoss()\n",
        "  scaler = torch.cuda.amp.GradScaler()\n",
        "\n",
        "  train_csv_path='/content/drive/MyDrive/pascalvoc/train.csv'\n",
        "  test_csv_path='/content/drive/My Drive/pascalvoc/test.csv'\n",
        "\n",
        "  IMAGE_SIZE = IMAGE_SIZE\n",
        "\n",
        "  train_dataset = YOLODataset(train_csv_path, transform=train_transforms, S=[IMAGE_SIZE // 32, IMAGE_SIZE // 16, IMAGE_SIZE // 8], img_dir=IMG_DIR, label_dir=LABEL_DIR,anchors=ANCHORS)\n",
        "  test_dataset = YOLODataset(test_csv_path, transform=test_transforms, S=[IMAGE_SIZE // 32, IMAGE_SIZE // 16, IMAGE_SIZE // 8], img_dir=IMG_DIR, label_dir=LABEL_DIR,anchors=ANCHORS)\n",
        "\n",
        "  train_loader = DataLoader(dataset=train_dataset, batch_size=BATCH_SIZE, shuffle=True)\n",
        "  test_loader = DataLoader(dataset=test_dataset, batch_size=BATCH_SIZE, shuffle=True)\n",
        "\n",
        "  if LOAD_MODEL:\n",
        "    load_checkpoint(f'/content/drive/MyDrive/model.pt', model, optimizer, loss_fn, LEARNING_RATE)\n",
        "\n",
        "  scaled_anchors = (torch.tensor(ANCHORS)*torch.tensor(S).unsqueeze(1).unsqueeze(1).repeat(1, 3, 2)).to(DEVICE)\n",
        "\n",
        "  for epoch in range(NUM_EPOCHS):\n",
        "      print(\"Running epoch number:\", epoch)\n",
        "      current_loss = train_fn(train_loader, model, optimizer, loss_fn, scaler, scaled_anchors)\n",
        "      Epoch_list.append(epoch)\n",
        "      loss_list.append(current_loss)\n",
        "          \n",
        "          \n",
        "      if SAVE_MODEL:\n",
        "          save_checkpoint(model, optimizer,loss_fn, filename=f'/content/drive/MyDrive/model.pt')\n",
        "\n",
        "      CLASS, NOOBJECT, OBJECT = check_class_accuracy(model, train_loader, threshold=CONF_THRESHOLD)\n",
        "      class_accuracy_list.append(CLASS)\n",
        "      noobj_accuracy_list.append(NOOBJECT)\n",
        "      obj_accuracy_list.append(OBJECT)\n",
        "\n",
        "      if epoch > 0 and epoch % 5 == 0:\n",
        "          print(\"On test Loader\")\n",
        "          check_class_accuracy(model, test_loader, threshold=CONF_THRESHOLD)\n",
        "          pred_boxes, true_boxes = get_evaluation_bboxes(test_loader, model, iou_threshold=NMS_IOU_THRESH, anchors=ANCHORS, threshold=CONF_THRESHOLD,)\n",
        "          mapval = mean_average_precision( pred_boxes, true_boxes, iou_threshold=MAP_IOU_THRESH, box_format=\"midpoint\", num_classes=NUM_CLASSES,)\n",
        "          map_list.append(mapval)\n",
        "          print(f\"MAP: {mapval.item()}\")\n",
        "          model.train()\n",
        "\n",
        "  experiment_plots(Epoch_list, loss_list, class_accuracy_list, noobj_accuracy_list, obj_accuracy_list)\n",
        "  Epoch_dict[optimizer]= Epoch_list\n",
        "  loss_dict[optimizer]= loss_list\n",
        "  class_accuracy_dict[optimizer]= class_accuracy_list\n",
        "  noobj_accuracy_dict[optimizer]= noobj_accuracy_list\n",
        "  obj_accuracy_dict[optimizer] = obj_accuracy_list\n",
        "  map_dict[optimizer] = map_list\n",
        "  \n"
      ]
    },
    {
      "cell_type": "code",
      "execution_count": null,
      "metadata": {
        "colab": {
          "base_uri": "https://localhost:8080/",
          "height": 1000
        },
        "id": "fDU0BmfFXR4K",
        "outputId": "c42dafa9-8083-400b-c627-6741d195be09"
      },
      "outputs": [
        {
          "name": "stdout",
          "output_type": "stream",
          "text": [
            "For optimizer: Adagrad (\n",
            "Parameter Group 0\n",
            "    eps: 1e-10\n",
            "    foreach: None\n",
            "    initial_accumulator_value: 0\n",
            "    lr: 0.0003\n",
            "    lr_decay: 0\n",
            "    maximize: False\n",
            "    weight_decay: 0\n",
            ")\n",
            "Running epoch number: 0\n"
          ]
        },
        {
          "name": "stderr",
          "output_type": "stream",
          "text": [
            "100%|\u001b[32m██████████\u001b[0m| 518/518 [2:13:33<00:00, 15.47s/it, loss=22.6]\n"
          ]
        },
        {
          "name": "stdout",
          "output_type": "stream",
          "text": [
            "=> Saving checkpoint\n"
          ]
        },
        {
          "name": "stderr",
          "output_type": "stream",
          "text": [
            "100%|██████████| 518/518 [06:40<00:00,  1.29it/s]\n"
          ]
        },
        {
          "name": "stdout",
          "output_type": "stream",
          "text": [
            "Class accuracy is: 32.752476%\n",
            "No obj accuracy is: 99.735634%\n",
            "Obj accuracy is: 0.030408%\n",
            "Running epoch number: 1\n"
          ]
        },
        {
          "name": "stderr",
          "output_type": "stream",
          "text": [
            "100%|\u001b[32m██████████\u001b[0m| 518/518 [10:34<00:00,  1.22s/it, loss=16.8]\n"
          ]
        },
        {
          "name": "stdout",
          "output_type": "stream",
          "text": [
            "=> Saving checkpoint\n"
          ]
        },
        {
          "name": "stderr",
          "output_type": "stream",
          "text": [
            "100%|██████████| 518/518 [06:39<00:00,  1.30it/s]\n"
          ]
        },
        {
          "name": "stdout",
          "output_type": "stream",
          "text": [
            "Class accuracy is: 33.285145%\n",
            "No obj accuracy is: 99.970184%\n",
            "Obj accuracy is: 0.002536%\n",
            "Running epoch number: 2\n"
          ]
        },
        {
          "name": "stderr",
          "output_type": "stream",
          "text": [
            "100%|\u001b[32m██████████\u001b[0m| 518/518 [10:34<00:00,  1.22s/it, loss=15.6]\n"
          ]
        },
        {
          "name": "stdout",
          "output_type": "stream",
          "text": [
            "=> Saving checkpoint\n"
          ]
        },
        {
          "name": "stderr",
          "output_type": "stream",
          "text": [
            "100%|██████████| 518/518 [06:39<00:00,  1.30it/s]\n"
          ]
        },
        {
          "name": "stdout",
          "output_type": "stream",
          "text": [
            "Class accuracy is: 33.474922%\n",
            "No obj accuracy is: 99.999931%\n",
            "Obj accuracy is: 0.000000%\n",
            "Running epoch number: 3\n"
          ]
        },
        {
          "name": "stderr",
          "output_type": "stream",
          "text": [
            "100%|\u001b[32m██████████\u001b[0m| 518/518 [10:34<00:00,  1.22s/it, loss=14.8]\n"
          ]
        },
        {
          "name": "stdout",
          "output_type": "stream",
          "text": [
            "=> Saving checkpoint\n"
          ]
        },
        {
          "name": "stderr",
          "output_type": "stream",
          "text": [
            "100%|██████████| 518/518 [06:40<00:00,  1.29it/s]\n"
          ]
        },
        {
          "name": "stdout",
          "output_type": "stream",
          "text": [
            "Class accuracy is: 34.442417%\n",
            "No obj accuracy is: 99.992493%\n",
            "Obj accuracy is: 0.000845%\n",
            "Running epoch number: 4\n"
          ]
        },
        {
          "name": "stderr",
          "output_type": "stream",
          "text": [
            "100%|\u001b[32m██████████\u001b[0m| 518/518 [10:34<00:00,  1.23s/it, loss=14.2]\n"
          ]
        },
        {
          "name": "stdout",
          "output_type": "stream",
          "text": [
            "=> Saving checkpoint\n"
          ]
        },
        {
          "name": "stderr",
          "output_type": "stream",
          "text": [
            "100%|██████████| 518/518 [06:38<00:00,  1.30it/s]\n"
          ]
        },
        {
          "name": "stdout",
          "output_type": "stream",
          "text": [
            "Class accuracy is: 34.958694%\n",
            "No obj accuracy is: 99.999985%\n",
            "Obj accuracy is: 0.000846%\n",
            "Running epoch number: 5\n"
          ]
        },
        {
          "name": "stderr",
          "output_type": "stream",
          "text": [
            "100%|\u001b[32m██████████\u001b[0m| 518/518 [10:34<00:00,  1.23s/it, loss=13.7]\n"
          ]
        },
        {
          "name": "stdout",
          "output_type": "stream",
          "text": [
            "=> Saving checkpoint\n"
          ]
        },
        {
          "name": "stderr",
          "output_type": "stream",
          "text": [
            "100%|██████████| 518/518 [06:38<00:00,  1.30it/s]\n"
          ]
        },
        {
          "name": "stdout",
          "output_type": "stream",
          "text": [
            "Class accuracy is: 35.820770%\n",
            "No obj accuracy is: 99.997238%\n",
            "Obj accuracy is: 0.177674%\n",
            "On test Loader\n"
          ]
        },
        {
          "name": "stderr",
          "output_type": "stream",
          "text": [
            "100%|██████████| 155/155 [1:52:00<00:00, 43.35s/it]\n"
          ]
        },
        {
          "name": "stdout",
          "output_type": "stream",
          "text": [
            "Class accuracy is: 41.609867%\n",
            "No obj accuracy is: 99.998093%\n",
            "Obj accuracy is: 0.163480%\n"
          ]
        },
        {
          "name": "stderr",
          "output_type": "stream",
          "text": [
            "100%|██████████| 155/155 [03:25<00:00,  1.33s/it]\n"
          ]
        },
        {
          "name": "stdout",
          "output_type": "stream",
          "text": [
            "MAP: 0.0003077337460126728\n",
            "Running epoch number: 6\n"
          ]
        },
        {
          "name": "stderr",
          "output_type": "stream",
          "text": [
            "100%|\u001b[32m██████████\u001b[0m| 518/518 [10:34<00:00,  1.22s/it, loss=13.3]\n"
          ]
        },
        {
          "name": "stdout",
          "output_type": "stream",
          "text": [
            "=> Saving checkpoint\n"
          ]
        },
        {
          "name": "stderr",
          "output_type": "stream",
          "text": [
            "100%|██████████| 518/518 [06:40<00:00,  1.29it/s]\n"
          ]
        },
        {
          "name": "stdout",
          "output_type": "stream",
          "text": [
            "Class accuracy is: 36.480350%\n",
            "No obj accuracy is: 99.998009%\n",
            "Obj accuracy is: 0.071843%\n",
            "Running epoch number: 7\n"
          ]
        },
        {
          "name": "stderr",
          "output_type": "stream",
          "text": [
            "100%|\u001b[32m██████████\u001b[0m| 518/518 [10:34<00:00,  1.23s/it, loss=13]\n"
          ]
        },
        {
          "name": "stdout",
          "output_type": "stream",
          "text": [
            "=> Saving checkpoint\n"
          ]
        },
        {
          "name": "stderr",
          "output_type": "stream",
          "text": [
            "100%|██████████| 518/518 [06:39<00:00,  1.30it/s]\n"
          ]
        },
        {
          "name": "stdout",
          "output_type": "stream",
          "text": [
            "Class accuracy is: 37.659870%\n",
            "No obj accuracy is: 99.992195%\n",
            "Obj accuracy is: 0.714280%\n",
            "Running epoch number: 8\n"
          ]
        },
        {
          "name": "stderr",
          "output_type": "stream",
          "text": [
            "100%|\u001b[32m██████████\u001b[0m| 518/518 [10:33<00:00,  1.22s/it, loss=12.7]\n"
          ]
        },
        {
          "name": "stdout",
          "output_type": "stream",
          "text": [
            "=> Saving checkpoint\n"
          ]
        },
        {
          "name": "stderr",
          "output_type": "stream",
          "text": [
            "100%|██████████| 518/518 [06:37<00:00,  1.30it/s]\n"
          ]
        },
        {
          "name": "stdout",
          "output_type": "stream",
          "text": [
            "Class accuracy is: 37.815372%\n",
            "No obj accuracy is: 99.986832%\n",
            "Obj accuracy is: 1.150425%\n",
            "Running epoch number: 9\n"
          ]
        },
        {
          "name": "stderr",
          "output_type": "stream",
          "text": [
            "100%|\u001b[32m██████████\u001b[0m| 518/518 [10:33<00:00,  1.22s/it, loss=12.5]\n"
          ]
        },
        {
          "name": "stdout",
          "output_type": "stream",
          "text": [
            "=> Saving checkpoint\n"
          ]
        },
        {
          "name": "stderr",
          "output_type": "stream",
          "text": [
            "100%|██████████| 518/518 [06:37<00:00,  1.30it/s]\n"
          ]
        },
        {
          "name": "stdout",
          "output_type": "stream",
          "text": [
            "Class accuracy is: 38.735264%\n",
            "No obj accuracy is: 99.984627%\n",
            "Obj accuracy is: 1.407141%\n",
            "Running epoch number: 10\n"
          ]
        },
        {
          "name": "stderr",
          "output_type": "stream",
          "text": [
            "100%|\u001b[32m██████████\u001b[0m| 518/518 [10:33<00:00,  1.22s/it, loss=12.2]\n"
          ]
        },
        {
          "name": "stdout",
          "output_type": "stream",
          "text": [
            "=> Saving checkpoint\n"
          ]
        },
        {
          "name": "stderr",
          "output_type": "stream",
          "text": [
            "100%|██████████| 518/518 [06:38<00:00,  1.30it/s]\n"
          ]
        },
        {
          "name": "stdout",
          "output_type": "stream",
          "text": [
            "Class accuracy is: 39.272617%\n",
            "No obj accuracy is: 99.989738%\n",
            "Obj accuracy is: 0.865084%\n",
            "On test Loader\n"
          ]
        },
        {
          "name": "stderr",
          "output_type": "stream",
          "text": [
            "100%|██████████| 155/155 [01:37<00:00,  1.58it/s]\n"
          ]
        },
        {
          "name": "stdout",
          "output_type": "stream",
          "text": [
            "Class accuracy is: 45.275700%\n",
            "No obj accuracy is: 99.993660%\n",
            "Obj accuracy is: 0.712109%\n"
          ]
        },
        {
          "name": "stderr",
          "output_type": "stream",
          "text": [
            "100%|██████████| 155/155 [03:29<00:00,  1.35s/it]\n"
          ]
        },
        {
          "name": "stdout",
          "output_type": "stream",
          "text": [
            "MAP: 0.004454866982996464\n",
            "Running epoch number: 11\n"
          ]
        },
        {
          "name": "stderr",
          "output_type": "stream",
          "text": [
            "100%|\u001b[32m██████████\u001b[0m| 518/518 [10:32<00:00,  1.22s/it, loss=12.1]\n"
          ]
        },
        {
          "name": "stdout",
          "output_type": "stream",
          "text": [
            "=> Saving checkpoint\n"
          ]
        },
        {
          "name": "stderr",
          "output_type": "stream",
          "text": [
            "100%|██████████| 518/518 [06:38<00:00,  1.30it/s]\n"
          ]
        },
        {
          "name": "stdout",
          "output_type": "stream",
          "text": [
            "Class accuracy is: 39.871735%\n",
            "No obj accuracy is: 99.984146%\n",
            "Obj accuracy is: 1.482927%\n",
            "Running epoch number: 12\n"
          ]
        },
        {
          "name": "stderr",
          "output_type": "stream",
          "text": [
            "100%|\u001b[32m██████████\u001b[0m| 518/518 [10:33<00:00,  1.22s/it, loss=11.9]\n"
          ]
        },
        {
          "name": "stdout",
          "output_type": "stream",
          "text": [
            "=> Saving checkpoint\n"
          ]
        },
        {
          "name": "stderr",
          "output_type": "stream",
          "text": [
            "100%|██████████| 518/518 [06:38<00:00,  1.30it/s]\n"
          ]
        },
        {
          "name": "stdout",
          "output_type": "stream",
          "text": [
            "Class accuracy is: 40.426163%\n",
            "No obj accuracy is: 99.974808%\n",
            "Obj accuracy is: 2.088546%\n",
            "Running epoch number: 13\n"
          ]
        },
        {
          "name": "stderr",
          "output_type": "stream",
          "text": [
            "100%|\u001b[32m██████████\u001b[0m| 518/518 [10:33<00:00,  1.22s/it, loss=11.7]\n"
          ]
        },
        {
          "name": "stdout",
          "output_type": "stream",
          "text": [
            "=> Saving checkpoint\n"
          ]
        },
        {
          "name": "stderr",
          "output_type": "stream",
          "text": [
            "100%|██████████| 518/518 [06:38<00:00,  1.30it/s]\n"
          ]
        },
        {
          "name": "stdout",
          "output_type": "stream",
          "text": [
            "Class accuracy is: 40.884476%\n",
            "No obj accuracy is: 99.972191%\n",
            "Obj accuracy is: 2.186679%\n",
            "Running epoch number: 14\n"
          ]
        },
        {
          "name": "stderr",
          "output_type": "stream",
          "text": [
            "100%|\u001b[32m██████████\u001b[0m| 518/518 [10:32<00:00,  1.22s/it, loss=11.6]\n"
          ]
        },
        {
          "name": "stdout",
          "output_type": "stream",
          "text": [
            "=> Saving checkpoint\n"
          ]
        },
        {
          "name": "stderr",
          "output_type": "stream",
          "text": [
            "100%|██████████| 518/518 [06:38<00:00,  1.30it/s]\n"
          ]
        },
        {
          "name": "stdout",
          "output_type": "stream",
          "text": [
            "Class accuracy is: 41.417469%\n",
            "No obj accuracy is: 99.955322%\n",
            "Obj accuracy is: 3.086717%\n",
            "Running epoch number: 15\n"
          ]
        },
        {
          "name": "stderr",
          "output_type": "stream",
          "text": [
            "100%|\u001b[32m██████████\u001b[0m| 518/518 [10:32<00:00,  1.22s/it, loss=11.4]\n"
          ]
        },
        {
          "name": "stdout",
          "output_type": "stream",
          "text": [
            "=> Saving checkpoint\n"
          ]
        },
        {
          "name": "stderr",
          "output_type": "stream",
          "text": [
            "100%|██████████| 518/518 [06:38<00:00,  1.30it/s]\n"
          ]
        },
        {
          "name": "stdout",
          "output_type": "stream",
          "text": [
            "Class accuracy is: 42.119087%\n",
            "No obj accuracy is: 99.950623%\n",
            "Obj accuracy is: 3.699575%\n",
            "On test Loader\n"
          ]
        },
        {
          "name": "stderr",
          "output_type": "stream",
          "text": [
            "100%|██████████| 155/155 [01:37<00:00,  1.58it/s]\n"
          ]
        },
        {
          "name": "stdout",
          "output_type": "stream",
          "text": [
            "Class accuracy is: 47.359379%\n",
            "No obj accuracy is: 99.969330%\n",
            "Obj accuracy is: 2.568578%\n"
          ]
        },
        {
          "name": "stderr",
          "output_type": "stream",
          "text": [
            "100%|██████████| 155/155 [03:32<00:00,  1.37s/it]\n"
          ]
        },
        {
          "name": "stdout",
          "output_type": "stream",
          "text": [
            "MAP: 0.013647566549479961\n",
            "Running epoch number: 16\n"
          ]
        },
        {
          "name": "stderr",
          "output_type": "stream",
          "text": [
            "100%|\u001b[32m██████████\u001b[0m| 518/518 [10:33<00:00,  1.22s/it, loss=11.3]\n"
          ]
        },
        {
          "name": "stdout",
          "output_type": "stream",
          "text": [
            "=> Saving checkpoint\n"
          ]
        },
        {
          "name": "stderr",
          "output_type": "stream",
          "text": [
            "100%|██████████| 518/518 [06:38<00:00,  1.30it/s]\n"
          ]
        },
        {
          "name": "stdout",
          "output_type": "stream",
          "text": [
            "Class accuracy is: 42.719875%\n",
            "No obj accuracy is: 99.944649%\n",
            "Obj accuracy is: 3.721827%\n",
            "Running epoch number: 17\n"
          ]
        },
        {
          "name": "stderr",
          "output_type": "stream",
          "text": [
            "100%|\u001b[32m██████████\u001b[0m| 518/518 [10:33<00:00,  1.22s/it, loss=11.1]\n"
          ]
        },
        {
          "name": "stdout",
          "output_type": "stream",
          "text": [
            "=> Saving checkpoint\n"
          ]
        },
        {
          "name": "stderr",
          "output_type": "stream",
          "text": [
            "100%|██████████| 518/518 [06:37<00:00,  1.30it/s]\n"
          ]
        },
        {
          "name": "stdout",
          "output_type": "stream",
          "text": [
            "Class accuracy is: 42.901203%\n",
            "No obj accuracy is: 99.950661%\n",
            "Obj accuracy is: 3.265058%\n",
            "Running epoch number: 18\n"
          ]
        },
        {
          "name": "stderr",
          "output_type": "stream",
          "text": [
            "100%|\u001b[32m██████████\u001b[0m| 518/518 [10:33<00:00,  1.22s/it, loss=11]\n"
          ]
        },
        {
          "name": "stdout",
          "output_type": "stream",
          "text": [
            "=> Saving checkpoint\n"
          ]
        },
        {
          "name": "stderr",
          "output_type": "stream",
          "text": [
            "100%|██████████| 518/518 [06:37<00:00,  1.30it/s]\n"
          ]
        },
        {
          "name": "stdout",
          "output_type": "stream",
          "text": [
            "Class accuracy is: 43.373180%\n",
            "No obj accuracy is: 99.882957%\n",
            "Obj accuracy is: 5.171700%\n",
            "Running epoch number: 19\n"
          ]
        },
        {
          "name": "stderr",
          "output_type": "stream",
          "text": [
            "100%|\u001b[32m██████████\u001b[0m| 518/518 [10:33<00:00,  1.22s/it, loss=10.9]\n"
          ]
        },
        {
          "name": "stdout",
          "output_type": "stream",
          "text": [
            "=> Saving checkpoint\n"
          ]
        },
        {
          "name": "stderr",
          "output_type": "stream",
          "text": [
            "100%|██████████| 518/518 [06:38<00:00,  1.30it/s]\n"
          ]
        },
        {
          "name": "stdout",
          "output_type": "stream",
          "text": [
            "Class accuracy is: 44.375141%\n",
            "No obj accuracy is: 99.905998%\n",
            "Obj accuracy is: 4.826619%\n"
          ]
        },
        {
          "data": {
            "image/png": "[encoded data removed]",
            "text/plain": [
              "<Figure size 720x720 with 4 Axes>"
            ]
          },
          "metadata": {},
          "output_type": "display_data"
        }
      ],
      "source": [
        "import torch\n",
        "model = YOLOV3(num_classes=NUM_CLASSES).to(DEVICE)\n",
        "\n",
        "#optimizer1 = optim.Adam(model.parameters(), lr=LEARNING_RATE, weight_decay=WEIGHT_DECAY)\n",
        "#optimizer2 = optim.SGD(model.parameters(), lr=LEARNING_RATE, weight_decay=WEIGHT_DECAY, momentum=0.9)\n",
        "#optimizer3 = optim.RMSprop(model.parameters(), lr=LEARNING_RATE, weight_decay=WEIGHT_DECAY)\n",
        "optimizer4 = optim.Adagrad(model.parameters(), lr=LEARNING_RATE, weight_decay=WEIGHT_DECAY)\n",
        "\n",
        "map_dict={}\n",
        "Epoch_dict={}\n",
        "loss_dict={}\n",
        "class_accuracy_dict={}\n",
        "noobj_accuracy_dict={}\n",
        "obj_accuracy_dict={}\n",
        "\n",
        "optimizer_list=[ optimizer4 ]\n",
        "for different_optimizers in optimizer_list:\n",
        "  map_list=[]\n",
        "  Epoch_list=[]\n",
        "  loss_list=[]\n",
        "  class_accuracy_list=[]\n",
        "  noobj_accuracy_list=[]\n",
        "  obj_accuracy_list=[]\n",
        "  optimizer = different_optimizers\n",
        "  print('For optimizer:',optimizer)\n",
        "  loss_fn = YoloLoss()\n",
        "  scaler = torch.cuda.amp.GradScaler()\n",
        "\n",
        "  train_csv_path='/content/drive/MyDrive/pascalvoc/train.csv'\n",
        "  test_csv_path='/content/drive/My Drive/pascalvoc/test.csv'\n",
        "\n",
        "  IMAGE_SIZE = IMAGE_SIZE\n",
        "\n",
        "  train_dataset = YOLODataset(train_csv_path, transform=train_transforms, S=[IMAGE_SIZE // 32, IMAGE_SIZE // 16, IMAGE_SIZE // 8], img_dir=IMG_DIR, label_dir=LABEL_DIR,anchors=ANCHORS)\n",
        "  test_dataset = YOLODataset(test_csv_path, transform=test_transforms, S=[IMAGE_SIZE // 32, IMAGE_SIZE // 16, IMAGE_SIZE // 8], img_dir=IMG_DIR, label_dir=LABEL_DIR,anchors=ANCHORS)\n",
        "\n",
        "  train_loader = DataLoader(dataset=train_dataset, batch_size=BATCH_SIZE, shuffle=True)\n",
        "  test_loader = DataLoader(dataset=test_dataset, batch_size=BATCH_SIZE, shuffle=True)\n",
        "\n",
        "  if LOAD_MODEL:\n",
        "    load_checkpoint(f'/content/drive/MyDrive/model.pt', model, optimizer, loss_fn, LEARNING_RATE)\n",
        "\n",
        "  scaled_anchors = (torch.tensor(ANCHORS)*torch.tensor(S).unsqueeze(1).unsqueeze(1).repeat(1, 3, 2)).to(DEVICE)\n",
        "\n",
        "  for epoch in range(NUM_EPOCHS):\n",
        "      print(\"Running epoch number:\", epoch)\n",
        "      current_loss = train_fn(train_loader, model, optimizer, loss_fn, scaler, scaled_anchors)\n",
        "      Epoch_list.append(epoch)\n",
        "      loss_list.append(current_loss)\n",
        "          \n",
        "          \n",
        "      if SAVE_MODEL:\n",
        "          save_checkpoint(model, optimizer,loss_fn, filename=f'/content/drive/MyDrive/model.pt')\n",
        "\n",
        "      CLASS, NOOBJECT, OBJECT = check_class_accuracy(model, train_loader, threshold=CONF_THRESHOLD)\n",
        "      class_accuracy_list.append(CLASS)\n",
        "      noobj_accuracy_list.append(NOOBJECT)\n",
        "      obj_accuracy_list.append(OBJECT)\n",
        "\n",
        "      if epoch > 0 and epoch % 5 == 0:\n",
        "          print(\"On test Loader\")\n",
        "          check_class_accuracy(model, test_loader, threshold=CONF_THRESHOLD)\n",
        "          pred_boxes, true_boxes = get_evaluation_bboxes(test_loader, model, iou_threshold=NMS_IOU_THRESH, anchors=ANCHORS, threshold=CONF_THRESHOLD,)\n",
        "          mapval = mean_average_precision( pred_boxes, true_boxes, iou_threshold=MAP_IOU_THRESH, box_format=\"midpoint\", num_classes=NUM_CLASSES,)\n",
        "          map_list.append(mapval)\n",
        "          print(f\"MAP: {mapval.item()}\")\n",
        "          model.train()\n",
        "\n",
        "  experiment_plots(Epoch_list, loss_list, class_accuracy_list, noobj_accuracy_list, obj_accuracy_list)\n",
        "  Epoch_dict[optimizer]= Epoch_list\n",
        "  loss_dict[optimizer]= loss_list\n",
        "  class_accuracy_dict[optimizer]= class_accuracy_list\n",
        "  noobj_accuracy_dict[optimizer]= noobj_accuracy_list\n",
        "  obj_accuracy_dict[optimizer] = obj_accuracy_list\n",
        "  map_dict[optimizer] = map_list\n",
        "  \n"
      ]
    }
  ],
  "metadata": {
    "accelerator": "GPU",
    "colab": {
      "collapsed_sections": [],
      "machine_shape": "hm",
      "provenance": []
    },
    "gpuClass": "standard",
    "kernelspec": {
      "display_name": "Python 3",
      "name": "python3"
    },
    "language_info": {
      "name": "python"
    }
  },
  "nbformat": 4,
  "nbformat_minor": 0
}